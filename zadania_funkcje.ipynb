{
 "cells": [
  {
   "cell_type": "code",
   "execution_count": 1,
   "metadata": {
    "collapsed": true
   },
   "outputs": [
    {
     "name": "stdout",
     "output_type": "stream",
     "text": [
      "Kwadarat podanej liczby to: 2705.0400999999997\n"
     ]
    }
   ],
   "source": [
    "# zadanie 1\n",
    "def kwadrat(liczba) -> float:\n",
    "    return liczba ** 2\n",
    "\n",
    "print(f'Kwadarat podanej liczby to: {kwadrat(52.01)}')"
   ]
  },
  {
   "cell_type": "code",
   "execution_count": 2,
   "outputs": [
    {
     "name": "stdout",
     "output_type": "stream",
     "text": [
      "Liczba ujemnych elementów listy: 3\n"
     ]
    }
   ],
   "source": [
    "# Zadanie 2\n",
    "def ile_ujemnych(lista_liczb) -> int:\n",
    "    licznik_ujemnych: int = 0\n",
    "\n",
    "    for i in range(len(lista_liczb)):\n",
    "        if lista_liczb[i] < 0:\n",
    "            licznik_ujemnych += 1\n",
    "\n",
    "    return licznik_ujemnych\n",
    "\n",
    "lista = [0, -1.2, 2, -3.2, -4, 5, 6, 7]\n",
    "\n",
    "print(f'Liczba ujemnych elementów listy: {ile_ujemnych(lista)}')\n"
   ],
   "metadata": {
    "collapsed": false
   }
  },
  {
   "cell_type": "code",
   "execution_count": 3,
   "outputs": [
    {
     "name": "stdout",
     "output_type": "stream",
     "text": [
      "Iloczyn elementów listy wynosi: -56700.0\n"
     ]
    }
   ],
   "source": [
    "# Zadanie 3\n",
    "def iloczyn(lista_liczb) -> float:\n",
    "    iloczyn_liczb: float= 1\n",
    "\n",
    "    for i in range(len(lista_liczb)):\n",
    "        iloczyn_liczb *= lista_liczb[i]\n",
    "\n",
    "    return iloczyn_liczb\n",
    "\n",
    "lista = [10, 1, 2.25, -3, -4, 5, -6, 7]\n",
    "print(f'Iloczyn elementów listy wynosi: {iloczyn(lista)}')\n"
   ],
   "metadata": {
    "collapsed": false
   }
  },
  {
   "cell_type": "code",
   "execution_count": 4,
   "outputs": [
    {
     "name": "stdout",
     "output_type": "stream",
     "text": [
      "Wynik funkcji signum: -1\n"
     ]
    }
   ],
   "source": [
    "# Zadanie 4\n",
    "def signum(liczba) -> int:\n",
    "    if liczba < 0:\n",
    "        return -1\n",
    "    elif liczba > 0:\n",
    "        return 1\n",
    "    else:\n",
    "        return 0\n",
    "\n",
    "print(f'Wynik funkcji signum: {signum(-8)}')"
   ],
   "metadata": {
    "collapsed": false
   }
  },
  {
   "cell_type": "code",
   "execution_count": 5,
   "outputs": [
    {
     "name": "stdout",
     "output_type": "stream",
     "text": [
      "Kot\n"
     ]
    }
   ],
   "source": [
    "# Zadanie 5\n",
    "def lancuch(tekst) -> str:\n",
    "    return tekst\n",
    "\n",
    "print(lancuch('Kot'))"
   ],
   "metadata": {
    "collapsed": false
   }
  },
  {
   "cell_type": "code",
   "execution_count": 6,
   "outputs": [
    {
     "name": "stdout",
     "output_type": "stream",
     "text": [
      "12343\n"
     ]
    }
   ],
   "source": [
    "# Zadanie 6\n",
    "def func_duzo_param(par1, par2, par3, par4 = 2, par5 = 3):\n",
    "    print(f'{par1}{par2}{par3}{par4}{par5}')\n",
    "\n",
    "\n",
    "func_duzo_param(1, 2, 3, 4)"
   ],
   "metadata": {
    "collapsed": false
   }
  },
  {
   "cell_type": "code",
   "execution_count": 7,
   "outputs": [
    {
     "name": "stdout",
     "output_type": "stream",
     "text": [
      "247.4\n"
     ]
    }
   ],
   "source": [
    "# Zadanie 7\n",
    "def dzielenie(liczba: float) -> float:\n",
    "    return liczba / 2\n",
    "\n",
    "def mnozenie(liczba: float) -> float:\n",
    "    return liczba * 4\n",
    "\n",
    "wynik_dzielenie = dzielenie(123.7)\n",
    "print(mnozenie(wynik_dzielenie))"
   ],
   "metadata": {
    "collapsed": false
   }
  },
  {
   "cell_type": "code",
   "execution_count": 8,
   "outputs": [
    {
     "name": "stdout",
     "output_type": "stream",
     "text": [
      "Podanego tekstu nie da się zrzutować na float\n",
      "None\n"
     ]
    }
   ],
   "source": [
    "# Zadanie 8\n",
    "def na_float(tekst):\n",
    "    try:\n",
    "        liczba = float(tekst)\n",
    "        return liczba\n",
    "    except ValueError:\n",
    "        print('Podanego tekstu nie da się zrzutować na float')\n",
    "\n",
    "\n",
    "# while True:\n",
    "#     liczba = input('Podaj tekst')\n",
    "#     print(na_float(liczba))"
   ],
   "metadata": {
    "collapsed": false
   }
  },
  {
   "cell_type": "code",
   "execution_count": 10,
   "outputs": [
    {
     "name": "stdout",
     "output_type": "stream",
     "text": [
      "Delta ujemna\n",
      "Nie ma rozwiązań\n"
     ]
    }
   ],
   "source": [
    "# Zadanie 9\n",
    "def rownanie_kwadratowe(a, b, c) -> None:\n",
    "    import math\n",
    "\n",
    "    delta = b ** 2 - 4 * a * c\n",
    "\n",
    "    if delta > 0:\n",
    "        sqrt_delta = math.sqrt(delta)\n",
    "        print('Pierwiastek z delty:', sqrt_delta)\n",
    "\n",
    "        x1 = (-b + sqrt_delta) / (2 * a)\n",
    "        x2 = (-b - sqrt_delta) / (2 * a)\n",
    "\n",
    "        print(f'x1: {x1},\\nx2: {x2}')\n",
    "\n",
    "    elif delta == 0:\n",
    "        x= -b / (2 * a)\n",
    "        print(f'Delta równa zero\\nx: {x}')\n",
    "\n",
    "    else:\n",
    "        print('Delta ujemna\\nNie ma rozwiązań')\n",
    "\n",
    "rownanie_kwadratowe(10, 2, 10)"
   ],
   "metadata": {
    "collapsed": false
   }
  },
  {
   "cell_type": "code",
   "execution_count": 11,
   "outputs": [
    {
     "name": "stdout",
     "output_type": "stream",
     "text": [
      "Pole powierzchni prostokąta wynosi: 20\n"
     ]
    }
   ],
   "source": [
    "# Zadanie 10\n",
    "def pole_prostokata(a, b) -> float:\n",
    "    return a * b\n",
    "\n",
    "bok_1 = int(input('Podaj długość pierwszego boku prostokąta: '))\n",
    "bok_2 = int(input('Podaj długość drugiego boku prostokąta: '))\n",
    "\n",
    "print(f'Pole powierzchni prostokąta wynosi: {pole_prostokata(bok_1, bok_2)}')"
   ],
   "metadata": {
    "collapsed": false
   }
  },
  {
   "cell_type": "code",
   "execution_count": null,
   "outputs": [],
   "source": [
    "# Zadanie 11\n"
   ],
   "metadata": {
    "collapsed": false
   }
  }
 ],
 "metadata": {
  "kernelspec": {
   "display_name": "Python 3",
   "language": "python",
   "name": "python3"
  },
  "language_info": {
   "codemirror_mode": {
    "name": "ipython",
    "version": 2
   },
   "file_extension": ".py",
   "mimetype": "text/x-python",
   "name": "python",
   "nbconvert_exporter": "python",
   "pygments_lexer": "ipython2",
   "version": "2.7.6"
  }
 },
 "nbformat": 4,
 "nbformat_minor": 0
}
